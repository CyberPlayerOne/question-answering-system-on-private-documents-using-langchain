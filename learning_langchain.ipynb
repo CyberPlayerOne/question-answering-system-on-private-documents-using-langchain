{
 "cells": [
  {
   "cell_type": "code",
   "execution_count": 1,
   "metadata": {
    "collapsed": true,
    "ExecuteTime": {
     "end_time": "2023-08-12T08:21:45.323576678Z",
     "start_time": "2023-08-12T08:21:41.402881704Z"
    }
   },
   "outputs": [
    {
     "name": "stdout",
     "output_type": "stream",
     "text": [
      "Name: langchain\r\n",
      "Version: 0.0.262\r\n",
      "Summary: Building applications with LLMs through composability\r\n",
      "Home-page: https://www.github.com/hwchase17/langchain\r\n",
      "Author: \r\n",
      "Author-email: \r\n",
      "License: MIT\r\n",
      "Location: /root/miniconda3/envs/devenv/lib/python3.9/site-packages\r\n",
      "Requires: aiohttp, async-timeout, dataclasses-json, langsmith, numexpr, numpy, openapi-schema-pydantic, pydantic, PyYAML, requests, SQLAlchemy, tenacity\r\n",
      "Required-by: \r\n"
     ]
    }
   ],
   "source": [
    "!pip show langchain"
   ]
  },
  {
   "cell_type": "code",
   "execution_count": 13,
   "outputs": [
    {
     "name": "stdout",
     "output_type": "stream",
     "text": [
      "/root/projects/PythonProjects/langchain-project\r\n"
     ]
    }
   ],
   "source": [
    "!realpath../projects/PythonProjects/langchain-project"
   ],
   "metadata": {
    "collapsed": false,
    "ExecuteTime": {
     "end_time": "2023-08-12T09:39:26.173821713Z",
     "start_time": "2023-08-12T09:39:25.537676684Z"
    }
   }
  },
  {
   "cell_type": "code",
   "execution_count": 14,
   "outputs": [],
   "source": [
    "import os\n",
    "import dotenv\n",
    "\n",
    "os.chdir('/root/projects/PythonProjects/langchain-project')"
   ],
   "metadata": {
    "collapsed": false,
    "ExecuteTime": {
     "end_time": "2023-08-12T09:39:56.383886476Z",
     "start_time": "2023-08-12T09:39:56.356789252Z"
    }
   }
  },
  {
   "cell_type": "code",
   "execution_count": 15,
   "outputs": [
    {
     "data": {
      "text/plain": "True"
     },
     "execution_count": 15,
     "metadata": {},
     "output_type": "execute_result"
    }
   ],
   "source": [
    "dotenv.load_dotenv(dotenv_path=dotenv.find_dotenv(), override=True)"
   ],
   "metadata": {
    "collapsed": false,
    "ExecuteTime": {
     "end_time": "2023-08-12T09:39:58.876326313Z",
     "start_time": "2023-08-12T09:39:58.848803615Z"
    }
   }
  },
  {
   "cell_type": "markdown",
   "source": [
    "# LLM Models (Wrappers): GPT-3"
   ],
   "metadata": {
    "collapsed": false
   }
  },
  {
   "cell_type": "code",
   "execution_count": 19,
   "outputs": [],
   "source": [
    "from langchain.llms import OpenAI"
   ],
   "metadata": {
    "collapsed": false,
    "ExecuteTime": {
     "end_time": "2023-08-12T09:42:38.207412191Z",
     "start_time": "2023-08-12T09:42:35.094591309Z"
    }
   }
  },
  {
   "cell_type": "code",
   "execution_count": 22,
   "outputs": [
    {
     "name": "stdout",
     "output_type": "stream",
     "text": [
      "\u001B[1mOpenAI\u001B[0m\n",
      "Params: {'model_name': 'text-davinci-003', 'temperature': 0.7, 'max_tokens': 512, 'top_p': 1, 'frequency_penalty': 0, 'presence_penalty': 0, 'n': 1, 'request_timeout': None, 'logit_bias': {}}\n"
     ]
    }
   ],
   "source": [
    "llm = OpenAI(model_name='text-davinci-003', temperature=0.7, max_tokens=512)\n",
    "print(llm)"
   ],
   "metadata": {
    "collapsed": false,
    "ExecuteTime": {
     "end_time": "2023-08-12T09:44:23.700724776Z",
     "start_time": "2023-08-12T09:44:23.697604900Z"
    }
   }
  },
  {
   "cell_type": "code",
   "execution_count": 30,
   "outputs": [
    {
     "data": {
      "text/plain": "'\\n\\nAttention mechanism is a context-dependent mechanism for focusing on relevant information in a sequence of input data.'"
     },
     "execution_count": 30,
     "metadata": {},
     "output_type": "execute_result"
    }
   ],
   "source": [
    "output = llm('explain attention mechanism in one sentence')\n",
    "output"
   ],
   "metadata": {
    "collapsed": false,
    "ExecuteTime": {
     "end_time": "2023-08-12T10:44:22.464384816Z",
     "start_time": "2023-08-12T10:44:21.217182961Z"
    }
   }
  },
  {
   "cell_type": "markdown",
   "source": [
    "# ChatModels: GPT-3.5-Turbo and GPT-4"
   ],
   "metadata": {
    "collapsed": false
   }
  },
  {
   "cell_type": "code",
   "execution_count": 31,
   "outputs": [],
   "source": [
    "from langchain.schema import (\n",
    "    AIMessage,\n",
    "    HumanMessage,\n",
    "    SystemMessage\n",
    ")\n",
    "from langchain.chat_models import ChatOpenAI"
   ],
   "metadata": {
    "collapsed": false,
    "ExecuteTime": {
     "end_time": "2023-08-12T10:48:40.067705656Z",
     "start_time": "2023-08-12T10:48:40.063659136Z"
    }
   }
  },
  {
   "cell_type": "code",
   "execution_count": 36,
   "outputs": [],
   "source": [
    "chat = ChatOpenAI(model_name='gpt-3.5-turbo', temperature=0.5, max_tokens=1024)"
   ],
   "metadata": {
    "collapsed": false,
    "ExecuteTime": {
     "end_time": "2023-08-12T10:53:56.343482624Z",
     "start_time": "2023-08-12T10:53:56.338684808Z"
    }
   }
  },
  {
   "cell_type": "code",
   "execution_count": 37,
   "outputs": [],
   "source": [
    "# chat = ChatOpenAI(model_name='gpt-3.5-turbo', temperature=0.5, model_kwargs={'max_token': 1024})"
   ],
   "metadata": {
    "collapsed": false,
    "ExecuteTime": {
     "end_time": "2023-08-12T10:53:59.638890398Z",
     "start_time": "2023-08-12T10:53:59.632267481Z"
    }
   }
  },
  {
   "cell_type": "code",
   "execution_count": 38,
   "outputs": [],
   "source": [
    "messages = [\n",
    "    SystemMessage(content='You are a physicist and respond only in Chinese.'),\n",
    "    HumanMessage(content='explain quantum mechanics in one sentence')\n",
    "]\n",
    "output = chat(messages)"
   ],
   "metadata": {
    "collapsed": false,
    "ExecuteTime": {
     "end_time": "2023-08-12T10:54:03.570041727Z",
     "start_time": "2023-08-12T10:54:00.252352157Z"
    }
   }
  },
  {
   "cell_type": "code",
   "execution_count": 39,
   "outputs": [
    {
     "name": "stdout",
     "output_type": "stream",
     "text": [
      "content='量子力学是一种描述微观世界中粒子行为的理论，其中包括波粒二象性、不确定性原理和量子叠加态等概念。' additional_kwargs={} example=False\n"
     ]
    }
   ],
   "source": [
    "print(output)"
   ],
   "metadata": {
    "collapsed": false,
    "ExecuteTime": {
     "end_time": "2023-08-12T10:54:09.155721897Z",
     "start_time": "2023-08-12T10:54:09.123932654Z"
    }
   }
  },
  {
   "cell_type": "markdown",
   "source": [
    "# Prompt Templates"
   ],
   "metadata": {
    "collapsed": false
   }
  },
  {
   "cell_type": "code",
   "execution_count": 40,
   "outputs": [],
   "source": [
    "from langchain import PromptTemplate"
   ],
   "metadata": {
    "collapsed": false,
    "ExecuteTime": {
     "end_time": "2023-08-12T13:35:58.893747372Z",
     "start_time": "2023-08-12T13:35:58.836969245Z"
    }
   }
  },
  {
   "cell_type": "code",
   "execution_count": 43,
   "outputs": [
    {
     "name": "stdout",
     "output_type": "stream",
     "text": [
      "input_variables=['virus', 'language'] output_parser=None partial_variables={} template='You are an experienced virologist. Write a few sentences about the following {virus} in {language}.' template_format='f-string' validate_template=True\n"
     ]
    }
   ],
   "source": [
    "template = '''You are an experienced virologist. Write a few sentences about the following {virus} in {language}.'''\n",
    "prompt = PromptTemplate(\n",
    "    input_variables=['virus', 'language'],\n",
    "    template=template\n",
    ")\n",
    "print(prompt)"
   ],
   "metadata": {
    "collapsed": false,
    "ExecuteTime": {
     "end_time": "2023-08-12T13:37:55.516109471Z",
     "start_time": "2023-08-12T13:37:55.509421920Z"
    }
   }
  },
  {
   "cell_type": "code",
   "execution_count": 44,
   "outputs": [
    {
     "name": "stdout",
     "output_type": "stream",
     "text": [
      "\n",
      "\n",
      "非洲埃博拉病毒是一种严重的传染病，通过接触患者的体液或组织以及接触患者表面污染的物品而传播。埃博拉病毒造成的症状包括发热、头痛、腹痛、肌肉痛、咳嗽和呕吐。没有特效疗法，埃博拉病毒的死亡率高达90％。\n"
     ]
    }
   ],
   "source": [
    "from langchain.llms import OpenAI\n",
    "\n",
    "llm = OpenAI(model_name='text-davinci-003', temperature=0.7)\n",
    "\n",
    "output = llm(prompt.format(virus='ebola', language='Chinese'))\n",
    "\n",
    "print(output)"
   ],
   "metadata": {
    "collapsed": false,
    "ExecuteTime": {
     "end_time": "2023-08-12T13:39:50.499189391Z",
     "start_time": "2023-08-12T13:39:41.853433822Z"
    }
   }
  },
  {
   "cell_type": "markdown",
   "source": [
    "# Simple Chains"
   ],
   "metadata": {
    "collapsed": false
   }
  },
  {
   "cell_type": "code",
   "execution_count": 45,
   "outputs": [],
   "source": [
    "from langchain.chat_models import ChatOpenAI\n",
    "from langchain import PromptTemplate\n",
    "from langchain.chains import LLMChain"
   ],
   "metadata": {
    "collapsed": false,
    "ExecuteTime": {
     "end_time": "2023-08-12T13:52:48.753662750Z",
     "start_time": "2023-08-12T13:52:48.749522469Z"
    }
   }
  },
  {
   "cell_type": "code",
   "execution_count": 46,
   "outputs": [],
   "source": [
    "llm = ChatOpenAI(model_name='gpt-3.5-turbo', temperature=0.5)"
   ],
   "metadata": {
    "collapsed": false,
    "ExecuteTime": {
     "end_time": "2023-08-12T13:54:05.759183531Z",
     "start_time": "2023-08-12T13:54:05.747609305Z"
    }
   }
  },
  {
   "cell_type": "code",
   "execution_count": 47,
   "outputs": [],
   "source": [
    "template = '''You are an experienced virologist. Write a few sentences about the following {virus} in {language}.'''\n",
    "prompt = PromptTemplate(\n",
    "    input_variables=['virus', 'language'],\n",
    "    template=template\n",
    ")\n",
    "\n",
    "chain = LLMChain(llm=llm, prompt=prompt)\n",
    "output = chain.run({'virus':'HSV', 'language':'Chinese'})"
   ],
   "metadata": {
    "collapsed": false,
    "ExecuteTime": {
     "end_time": "2023-08-12T13:56:19.710075643Z",
     "start_time": "2023-08-12T13:56:08.006339998Z"
    }
   }
  },
  {
   "cell_type": "code",
   "execution_count": 48,
   "outputs": [
    {
     "name": "stdout",
     "output_type": "stream",
     "text": [
      "HSV是人類常見的病毒之一，全稱為單細胞病毒（Herpes Simplex Virus）。HSV分為HSV-1和HSV-2兩種亞型，通常引起口腔和生殖器的疱疹。這種病毒可以通過接觸感染，並在感染後進入神經系統，成為潛伏性感染。HSV對人體免疫系統的抵抗力較弱，因此在壓力、疲勞或免疫功能低下時，容易引發疱疹復發。目前，尚無完全治愈HSV的方法，但抗病毒藥物可以有效緩解症狀並減少復發的頻率。\n"
     ]
    }
   ],
   "source": [
    "print(output)"
   ],
   "metadata": {
    "collapsed": false,
    "ExecuteTime": {
     "end_time": "2023-08-12T13:56:30.041880997Z",
     "start_time": "2023-08-12T13:56:30.025867028Z"
    }
   }
  },
  {
   "cell_type": "markdown",
   "source": [
    "# Sequential Chains"
   ],
   "metadata": {
    "collapsed": false
   }
  },
  {
   "cell_type": "code",
   "execution_count": null,
   "outputs": [],
   "source": [],
   "metadata": {
    "collapsed": false
   }
  },
  {
   "cell_type": "markdown",
   "source": [
    "# LangChain Agents"
   ],
   "metadata": {
    "collapsed": false
   }
  },
  {
   "cell_type": "code",
   "execution_count": null,
   "outputs": [],
   "source": [],
   "metadata": {
    "collapsed": false
   }
  }
 ],
 "metadata": {
  "kernelspec": {
   "display_name": "Python 3",
   "language": "python",
   "name": "python3"
  },
  "language_info": {
   "codemirror_mode": {
    "name": "ipython",
    "version": 2
   },
   "file_extension": ".py",
   "mimetype": "text/x-python",
   "name": "python",
   "nbconvert_exporter": "python",
   "pygments_lexer": "ipython2",
   "version": "2.7.6"
  }
 },
 "nbformat": 4,
 "nbformat_minor": 0
}
